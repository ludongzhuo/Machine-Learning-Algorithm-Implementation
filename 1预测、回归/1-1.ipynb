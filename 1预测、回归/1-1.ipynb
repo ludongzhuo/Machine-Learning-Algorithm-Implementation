{
 "cells": [
  {
   "cell_type": "markdown",
   "metadata": {},
   "source": [
    "西瓜数据集——LDA"
   ]
  },
  {
   "cell_type": "code",
   "execution_count": 2,
   "metadata": {},
   "outputs": [],
   "source": [
    "import numpy as np\n",
    "watermelon = np.genfromtxt(\"watermelon.csv\", delimiter=',')\n",
    "np.random.shuffle(watermelon)  #打乱"
   ]
  },
  {
   "cell_type": "code",
   "execution_count": 3,
   "metadata": {},
   "outputs": [],
   "source": [
    "num = watermelon.shape[0]  #数据总数\n",
    "dim = watermelon.shape[1] - 1  #维数（属性个数）\n",
    "training_num = round(num * 4 / 5)  #80%训练、20%测试\n",
    "test_num = num - training_num\n",
    "training_set = watermelon[0:training_num]\n",
    "test_set = watermelon[training_num:num]"
   ]
  },
  {
   "cell_type": "code",
   "execution_count": 4,
   "metadata": {},
   "outputs": [],
   "source": [
    "#将训练集分类\n",
    "training_set1 = np.array(\n",
    "    [array[0:dim] for array in training_set if array[dim] == 1]).T\n",
    "training_set0 = np.array(\n",
    "    [array[0:dim] for array in training_set if array[dim] == 0]).T"
   ]
  },
  {
   "cell_type": "code",
   "execution_count": 5,
   "metadata": {},
   "outputs": [],
   "source": [
    "#计算协方差矩阵和均值\n",
    "sigma0 = np.cov(training_set0)\n",
    "miu0 = training_set0.mean(1)\n",
    "sigma1 = np.cov(training_set1)\n",
    "miu1 = training_set1.mean(1)"
   ]
  },
  {
   "cell_type": "code",
   "execution_count": 6,
   "metadata": {},
   "outputs": [],
   "source": [
    "#根据LDA公式计算w\n",
    "w = np.dot(np.linalg.inv(sigma1 + sigma0), miu0 - miu1)\n",
    "#计算两类中点\n",
    "miu0_hat = np.dot(w, miu0)\n",
    "miu1_hat = np.dot(w, miu1)"
   ]
  },
  {
   "cell_type": "code",
   "execution_count": 7,
   "metadata": {},
   "outputs": [
    {
     "name": "stdout",
     "output_type": "stream",
     "text": [
      "测试数据1预测是好瓜\n",
      "该数据实际上不是好瓜\n",
      "\n",
      "测试数据2预测不是好瓜\n",
      "该数据实际上不是好瓜\n",
      "\n",
      "测试数据3预测不是好瓜\n",
      "该数据实际上不是好瓜\n",
      "\n"
     ]
    }
   ],
   "source": [
    "#测试数据集\n",
    "test_data = test_set[:, 0:dim]\n",
    "i = 1\n",
    "for data in test_data:\n",
    "    test_value = np.dot(w, data)\n",
    "    #print(test_value)\n",
    "    if (test_value - miu0_hat)**2 < (test_value - miu1_hat)**2:\n",
    "        print(\"测试数据\" + str(i) + \"预测不是好瓜\")\n",
    "    else:\n",
    "        print(\"测试数据\" + str(i) + \"预测是好瓜\")\n",
    "    if (test_set[i - 1, dim] == 1):\n",
    "        print(\"该数据实际上是好瓜\")\n",
    "    else:\n",
    "        print(\"该数据实际上不是好瓜\")\n",
    "    print()\n",
    "    i += 1"
   ]
  }
 ],
 "metadata": {
  "kernelspec": {
   "display_name": "Python 3",
   "language": "python",
   "name": "python3"
  },
  "language_info": {
   "codemirror_mode": {
    "name": "ipython",
    "version": 3
   },
   "file_extension": ".py",
   "mimetype": "text/x-python",
   "name": "python",
   "nbconvert_exporter": "python",
   "pygments_lexer": "ipython3",
   "version": "3.8.3"
  }
 },
 "nbformat": 4,
 "nbformat_minor": 4
}
