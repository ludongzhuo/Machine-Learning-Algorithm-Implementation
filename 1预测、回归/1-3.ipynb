{
 "cells": [
  {
   "cell_type": "code",
   "execution_count": 1,
   "metadata": {},
   "outputs": [],
   "source": [
    "#西瓜数据集——SVM\n",
    "import numpy as np\n",
    "from sklearn import svm\n",
    "watermelon = np.genfromtxt(\"watermelon.csv\", delimiter=',')\n",
    "np.random.shuffle(watermelon)  #打乱\n",
    "num = watermelon.shape[0]  #数据总数\n",
    "dim = watermelon.shape[1] - 1  #维数\n",
    "training_num = round(num * 4 / 5)\n",
    "test_num = num - training_num\n",
    "training_set = watermelon[0:training_num]\n",
    "test_set = watermelon[training_num:num]"
   ]
  },
  {
   "cell_type": "code",
   "execution_count": 2,
   "metadata": {},
   "outputs": [
    {
     "name": "stdout",
     "output_type": "stream",
     "text": [
      "预测结果为： [1. 0. 0.]\n",
      "实际结果为： [1. 0. 0.]\n"
     ]
    }
   ],
   "source": [
    "clf = svm.SVC(kernel='linear')\n",
    "clf.fit(training_set[:, :-1], training_set[:, -1])\n",
    "result = clf.predict(test_set[:, :-1])\n",
    "print(\"预测结果为：\", result)\n",
    "print(\"实际结果为：\", test_set[:, -1])"
   ]
  },
  {
   "cell_type": "code",
   "execution_count": 3,
   "metadata": {},
   "outputs": [
    {
     "name": "stdout",
     "output_type": "stream",
     "text": [
      "预测结果为： [1. 0. 0.]\n",
      "实际结果为： [1. 0. 0.]\n"
     ]
    }
   ],
   "source": [
    "clf = svm.SVC(kernel='poly')\n",
    "clf.fit(training_set[:, :-1], training_set[:, -1])\n",
    "result = clf.predict(test_set[:, :-1])\n",
    "print(\"预测结果为：\", result)\n",
    "print(\"实际结果为：\", test_set[:, -1])"
   ]
  },
  {
   "cell_type": "code",
   "execution_count": 4,
   "metadata": {},
   "outputs": [
    {
     "name": "stdout",
     "output_type": "stream",
     "text": [
      "预测结果为： [1. 0. 0.]\n",
      "实际结果为： [1. 0. 0.]\n"
     ]
    }
   ],
   "source": [
    "clf = svm.SVC(kernel='rbf')\n",
    "clf.fit(training_set[:, :-1], training_set[:, -1])\n",
    "result = clf.predict(test_set[:, :-1])\n",
    "print(\"预测结果为：\", result)\n",
    "print(\"实际结果为：\", test_set[:, -1])"
   ]
  },
  {
   "cell_type": "code",
   "execution_count": 5,
   "metadata": {},
   "outputs": [
    {
     "name": "stdout",
     "output_type": "stream",
     "text": [
      "预测结果为： [1. 1. 1.]\n",
      "实际结果为： [1. 0. 0.]\n"
     ]
    }
   ],
   "source": [
    "clf = svm.SVC(kernel='sigmoid')\n",
    "clf.fit(training_set[:, :-1], training_set[:, -1])\n",
    "result = clf.predict(test_set[:, :-1])\n",
    "print(\"预测结果为：\", result)\n",
    "print(\"实际结果为：\", test_set[:, -1])"
   ]
  }
 ],
 "metadata": {
  "kernelspec": {
   "display_name": "Python 3",
   "language": "python",
   "name": "python3"
  },
  "language_info": {
   "codemirror_mode": {
    "name": "ipython",
    "version": 3
   },
   "file_extension": ".py",
   "mimetype": "text/x-python",
   "name": "python",
   "nbconvert_exporter": "python",
   "pygments_lexer": "ipython3",
   "version": "3.8.3"
  }
 },
 "nbformat": 4,
 "nbformat_minor": 4
}
