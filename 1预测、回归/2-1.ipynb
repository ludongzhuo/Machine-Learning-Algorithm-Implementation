{
 "cells": [
  {
   "cell_type": "markdown",
   "metadata": {},
   "source": [
    "西瓜数据集——对数几率回归"
   ]
  },
  {
   "cell_type": "code",
   "execution_count": 2,
   "metadata": {},
   "outputs": [],
   "source": [
    "import numpy as np\n",
    "import math\n",
    "\n",
    "\n",
    "def Sigmoid_y1(x, w, b):\n",
    "    pro = math.exp(np.dot(w, x) + b) / (1 + math.exp(np.dot(w, x) + b))\n",
    "    return pro\n",
    "\n",
    "\n",
    "def Sigmoid_y0(x, w, b):\n",
    "    pro = 1 / (1 + math.exp(np.dot(w, x) + b))\n",
    "    return pro\n",
    "\n",
    "\n",
    "def LogoddsRegression(training_set, test_set, error_list):\n",
    "    w = np.zeros(dim)\n",
    "    b = 0\n",
    "    alpha = 0.01  #学习率\n",
    "    x = training_set[:, :-1]\n",
    "    y = training_set[:, -1]\n",
    "    N = len(training_set)\n",
    "    while True:  #梯度下降法\n",
    "        gradient_w = 0\n",
    "        gradient_b = 0\n",
    "        for i in range(N):\n",
    "            gradient_w -= y[i] * x[i] - Sigmoid_y1(x[i], w, b) * x[i]\n",
    "            gradient_b -= y[i] - Sigmoid_y1(x[i], w, b)\n",
    "        w -= alpha * gradient_w\n",
    "        b -= alpha * gradient_b\n",
    "        if (np.linalg.norm(alpha * gradient_w) < 0.002):  #收敛条件\n",
    "            break\n",
    "    #验证测试集\n",
    "    test_num = len(test_set)\n",
    "    error_num = 0\n",
    "    for i in range(test_num):\n",
    "        pro0 = Sigmoid_y0(test_set[i, :-1], w, b)\n",
    "        pro1 = Sigmoid_y1(test_set[i, :-1], w, b)\n",
    "        if (pro0 > pro1):  #测试得不是好瓜\n",
    "            if test_set[i, -1] == 0:\n",
    "                print(\"数据\" + str(i) + \"验证正确\")\n",
    "            else:\n",
    "                error_num += 1\n",
    "                print(\"数据\" + str(i) + \"验证错误\")\n",
    "        else:  #测试得是好瓜\n",
    "            if test_set[i, -1] == 0:\n",
    "                error_num += 1\n",
    "                print(\"数据\" + str(i) + \"验证错误\")\n",
    "            else:\n",
    "                print(\"数据\" + str(i) + \"验证正确\")\n",
    "    error_rate = error_num / test_num\n",
    "    error_list.append(error_rate)\n",
    "    print(\"第\" + str(len(error_list)) + \"重测试错误率为\" + str(error_rate))\n",
    "    print()"
   ]
  },
  {
   "cell_type": "code",
   "execution_count": 3,
   "metadata": {},
   "outputs": [],
   "source": [
    "watermelon = np.genfromtxt(\"watermelon.csv\", delimiter=',')\n",
    "np.random.shuffle(watermelon)  #打乱\n",
    "num = watermelon.shape[0]  #数据总数\n",
    "dim = watermelon.shape[1] - 1  #维数\n",
    "sample_num = round(num / 5)"
   ]
  },
  {
   "cell_type": "code",
   "execution_count": 4,
   "metadata": {},
   "outputs": [
    {
     "name": "stdout",
     "output_type": "stream",
     "text": [
      "数据0验证正确\n",
      "数据1验证正确\n",
      "数据2验证错误\n",
      "第1重测试错误率为0.3333333333333333\n",
      "\n",
      "数据0验证正确\n",
      "数据1验证正确\n",
      "数据2验证正确\n",
      "第2重测试错误率为0.0\n",
      "\n",
      "数据0验证错误\n",
      "数据1验证错误\n",
      "数据2验证正确\n",
      "第3重测试错误率为0.6666666666666666\n",
      "\n",
      "数据0验证正确\n",
      "数据1验证正确\n",
      "数据2验证正确\n",
      "第4重测试错误率为0.0\n",
      "\n",
      "数据0验证错误\n",
      "数据1验证错误\n",
      "数据2验证正确\n",
      "数据3验证错误\n",
      "数据4验证正确\n",
      "第5重测试错误率为0.6\n",
      "\n",
      "平均的错误率为0.32\n"
     ]
    }
   ],
   "source": [
    "errorlist = []\n",
    "LogoddsRegression(np.delete(watermelon, range(0, sample_num), 0),\n",
    "                  watermelon[0:sample_num], errorlist)\n",
    "LogoddsRegression(np.delete(watermelon, range(sample_num, 2 * sample_num), 0),\n",
    "                  watermelon[sample_num:2 * sample_num], errorlist)\n",
    "LogoddsRegression(\n",
    "    np.delete(watermelon, range(2 * sample_num, 3 * sample_num), 0),\n",
    "    watermelon[2 * sample_num:3 * sample_num], errorlist)\n",
    "LogoddsRegression(\n",
    "    np.delete(watermelon, range(3 * sample_num, 4 * sample_num), 0),\n",
    "    watermelon[3 * sample_num:4 * sample_num], errorlist)\n",
    "LogoddsRegression(np.delete(watermelon, range(4 * sample_num, num), 0),\n",
    "                  watermelon[4 * sample_num:], errorlist)\n",
    "print(\"平均的错误率为\" + str(np.mean(errorlist)))"
   ]
  }
 ],
 "metadata": {
  "kernelspec": {
   "display_name": "Python 3",
   "language": "python",
   "name": "python3"
  },
  "language_info": {
   "codemirror_mode": {
    "name": "ipython",
    "version": 3
   },
   "file_extension": ".py",
   "mimetype": "text/x-python",
   "name": "python",
   "nbconvert_exporter": "python",
   "pygments_lexer": "ipython3",
   "version": "3.8.3"
  }
 },
 "nbformat": 4,
 "nbformat_minor": 4
}
