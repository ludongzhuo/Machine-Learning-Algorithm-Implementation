{
 "cells": [
  {
   "cell_type": "code",
   "execution_count": 1,
   "metadata": {},
   "outputs": [],
   "source": [
    "from BayesianNetworks import *"
   ]
  },
  {
   "cell_type": "code",
   "execution_count": 2,
   "metadata": {},
   "outputs": [],
   "source": [
    "BatteryState = readFactorTable(['battery'], [0.9, 0.1], [[1, 0]])\n",
    "FuelState = readFactorTable(['fuel'], [0.9, 0.1], [[1, 0]])\n",
    "GaugeBF = readFactorTable(['gauge', 'battery', 'fuel'],\n",
    "                          [0.8, 0.2, 0.2, 0.1, 0.2, 0.8, 0.8, 0.9],\n",
    "                          [[1, 0], [1, 0], [1, 0]])\n",
    "carNet = [BatteryState, FuelState, GaugeBF]"
   ]
  },
  {
   "cell_type": "code",
   "execution_count": 3,
   "metadata": {},
   "outputs": [],
   "source": [
    "def joinFactors(factor1, factor2):\n",
    "    fac1 = factor1.copy(deep=True)\n",
    "    fac2 = factor2.copy(deep=True)\n",
    "    # your code\n",
    "    common = list(fac1.columns.intersection(fac2.columns))\n",
    "    if common == ['probs']:  #无公共因素\n",
    "        fac1['key'] = [1] * fac1.shape[0]\n",
    "        fac2['key'] = [1] * fac2.shape[0]\n",
    "\n",
    "        factor = pd.merge(fac1, fac2, on='key', how='outer')\n",
    "        factor['probs'] = factor['probs_x'] * factor['probs_y']\n",
    "        factor = factor.drop(['probs_x', 'probs_y', 'key'], axis=1)\n",
    "    else:  #有公共因素\n",
    "        common.remove('probs')\n",
    "        factor = pd.merge(fac1, fac2, on=common, how='outer')  #使用公共因素连接\n",
    "        factor['probs'] = factor['probs_x'] * factor['probs_y']\n",
    "        factor = factor.drop(['probs_x', 'probs_y'], axis=1)\n",
    "    return factor"
   ]
  },
  {
   "cell_type": "code",
   "execution_count": 4,
   "metadata": {},
   "outputs": [],
   "source": [
    "def marginalizeFactor(factorTable, hiddenVar):\n",
    "    # your code\n",
    "    #区分参数类型\n",
    "    if type(hiddenVar) == str:\n",
    "        common = list(set([hiddenVar]).intersection(factorTable.columns))\n",
    "    elif type(hiddenVar) == list:\n",
    "        common = list(set(hiddenVar).intersection(factorTable.columns))\n",
    "    else:\n",
    "        common = []\n",
    "    if common:  #hiddenVar出现在factorTable中\n",
    "        result = list(factorTable.columns)\n",
    "        for i in common:\n",
    "            result.remove(i)\n",
    "        result.remove('probs')\n",
    "        if not result:\n",
    "            return []\n",
    "        factor = factorTable.drop(common, axis=1)\n",
    "        factor = factor.groupby(result).sum()  #剩余相同状态的概率相加\n",
    "        factor = factor.reset_index()  #旧索引将添加为列，并使用新的顺序索引\n",
    "        return factor\n",
    "    else:  #factorTable不含hiddenVar\n",
    "        return factorTable\n",
    "\n",
    "\n",
    "def marginalizeNetworkVariables(bayesNet, hiddenVar):\n",
    "    # your code\n",
    "    Net = []\n",
    "    for table in bayesNet:\n",
    "        Net.append(marginalizeFactor(table, hiddenVar))\n",
    "    return Net"
   ]
  },
  {
   "cell_type": "code",
   "execution_count": 5,
   "metadata": {},
   "outputs": [],
   "source": [
    "def evidenceUpdateNet(bayesNet, evidenceVars, evidenceVals):\n",
    "    # your code\n",
    "    Net = bayesNet.copy()\n",
    "    if type(evidenceVars) == str:\n",
    "        evidenceVars = [evidenceVars]\n",
    "    if type(evidenceVars) == list:\n",
    "        num = len(evidenceVars)\n",
    "    for i in range(len(Net)):\n",
    "        for j in range(num):\n",
    "            if evidenceVars[j] in Net[i].columns:\n",
    "                Net[i] = Net[i][Net[i][evidenceVars[j]].isin([evidenceVals[j]\n",
    "                                                              ])]\n",
    "                Net[i] = Net[i].reset_index(drop=True)  #index修改\n",
    "    return Net\n",
    "\n",
    "\n",
    "def inference(bayesNet, hiddenVar, evidenceVars, evidenceVals):\n",
    "    # your code\n",
    "    # 使用evidenceVars\n",
    "    Net = evidenceUpdateNet(bayesNet, evidenceVars, evidenceVals)\n",
    "    # 使用hiddenVar\n",
    "    while hiddenVar:\n",
    "        hid = hiddenVar.pop()\n",
    "        Net_hid = [x for x in Net if hid in x.columns]\n",
    "        Net = [x for x in Net if hid not in x.columns]\n",
    "        if Net_hid:\n",
    "            tmp = Net_hid[0]\n",
    "        for table in Net_hid[1:]:\n",
    "            tmp = joinFactors(tmp, table)\n",
    "        Net.append(tmp)\n",
    "        Net = marginalizeNetworkVariables(Net, hid)\n",
    "    # 剩余全部相乘\n",
    "    if Net:\n",
    "        factor = Net[0]\n",
    "    for table in Net[1:]:\n",
    "        factor = joinFactors(factor, table)\n",
    "    # Normalize\n",
    "    factor['probs'] = factor['probs'] / factor['probs'].sum()\n",
    "    return factor"
   ]
  },
  {
   "cell_type": "code",
   "execution_count": 6,
   "metadata": {},
   "outputs": [
    {
     "name": "stdout",
     "output_type": "stream",
     "text": [
      "inference starts\n",
      "   gauge  probs\n",
      "0      0  0.315\n",
      "1      1  0.685\n",
      "   fuel  gauge  probs\n",
      "0     0      0   0.81\n",
      "1     0      1   0.19\n",
      "   fuel  gauge     probs\n",
      "0     1      0  0.742857\n",
      "1     0      0  0.257143\n",
      "   battery  fuel  gauge     probs\n",
      "0        0     1      0  0.888889\n",
      "1        0     0      0  0.111111\n",
      "inference ends\n"
     ]
    }
   ],
   "source": [
    "print(\"inference starts\")\n",
    "print(inference(carNet, ['battery', 'fuel'], [],\n",
    "                []))  ## chapter 8 equation (8.30)\n",
    "print(inference(carNet, ['battery'], ['fuel'],\n",
    "                [0]))  ## chapter 8 equation (8.31)\n",
    "print(inference(carNet, ['battery'], ['gauge'],\n",
    "                [0]))  ##chapter 8 equation  (8.32)\n",
    "print(inference(carNet, [], ['gauge', 'battery'],\n",
    "                [0, 0]))  ## chapter 8 equation (8.33)\n",
    "print(\"inference ends\")"
   ]
  },
  {
   "cell_type": "code",
   "execution_count": 7,
   "metadata": {},
   "outputs": [
    {
     "data": {
      "text/html": [
       "<div>\n",
       "<style scoped>\n",
       "    .dataframe tbody tr th:only-of-type {\n",
       "        vertical-align: middle;\n",
       "    }\n",
       "\n",
       "    .dataframe tbody tr th {\n",
       "        vertical-align: top;\n",
       "    }\n",
       "\n",
       "    .dataframe thead th {\n",
       "        text-align: right;\n",
       "    }\n",
       "</style>\n",
       "<table border=\"1\" class=\"dataframe\">\n",
       "  <thead>\n",
       "    <tr style=\"text-align: right;\">\n",
       "      <th></th>\n",
       "      <th>fuel</th>\n",
       "      <th>gauge</th>\n",
       "      <th>probs</th>\n",
       "    </tr>\n",
       "  </thead>\n",
       "  <tbody>\n",
       "    <tr>\n",
       "      <th>0</th>\n",
       "      <td>0</td>\n",
       "      <td>0</td>\n",
       "      <td>1.7</td>\n",
       "    </tr>\n",
       "    <tr>\n",
       "      <th>1</th>\n",
       "      <td>0</td>\n",
       "      <td>1</td>\n",
       "      <td>0.3</td>\n",
       "    </tr>\n",
       "    <tr>\n",
       "      <th>2</th>\n",
       "      <td>1</td>\n",
       "      <td>0</td>\n",
       "      <td>1.0</td>\n",
       "    </tr>\n",
       "    <tr>\n",
       "      <th>3</th>\n",
       "      <td>1</td>\n",
       "      <td>1</td>\n",
       "      <td>1.0</td>\n",
       "    </tr>\n",
       "  </tbody>\n",
       "</table>\n",
       "</div>"
      ],
      "text/plain": [
       "   fuel  gauge  probs\n",
       "0     0      0    1.7\n",
       "1     0      1    0.3\n",
       "2     1      0    1.0\n",
       "3     1      1    1.0"
      ]
     },
     "execution_count": 7,
     "metadata": {},
     "output_type": "execute_result"
    }
   ],
   "source": [
    "marginalizeFactor(carNet[2], 'battery')"
   ]
  },
  {
   "cell_type": "code",
   "execution_count": 8,
   "metadata": {},
   "outputs": [
    {
     "data": {
      "text/html": [
       "<div>\n",
       "<style scoped>\n",
       "    .dataframe tbody tr th:only-of-type {\n",
       "        vertical-align: middle;\n",
       "    }\n",
       "\n",
       "    .dataframe tbody tr th {\n",
       "        vertical-align: top;\n",
       "    }\n",
       "\n",
       "    .dataframe thead th {\n",
       "        text-align: right;\n",
       "    }\n",
       "</style>\n",
       "<table border=\"1\" class=\"dataframe\">\n",
       "  <thead>\n",
       "    <tr style=\"text-align: right;\">\n",
       "      <th></th>\n",
       "      <th>fuel</th>\n",
       "      <th>probs</th>\n",
       "    </tr>\n",
       "  </thead>\n",
       "  <tbody>\n",
       "    <tr>\n",
       "      <th>0</th>\n",
       "      <td>0</td>\n",
       "      <td>1.0</td>\n",
       "    </tr>\n",
       "    <tr>\n",
       "      <th>1</th>\n",
       "      <td>1</td>\n",
       "      <td>1.0</td>\n",
       "    </tr>\n",
       "  </tbody>\n",
       "</table>\n",
       "</div>"
      ],
      "text/plain": [
       "   fuel  probs\n",
       "0     0    1.0\n",
       "1     1    1.0"
      ]
     },
     "execution_count": 8,
     "metadata": {},
     "output_type": "execute_result"
    }
   ],
   "source": [
    "marginalizeFactor(joinFactors(GaugeBF, BatteryState), ['gauge', 'battery'])"
   ]
  },
  {
   "cell_type": "code",
   "execution_count": 9,
   "metadata": {},
   "outputs": [
    {
     "data": {
      "text/plain": [
       "[[],\n",
       " [],\n",
       "    gauge  probs\n",
       " 0      0    2.7\n",
       " 1      1    1.3]"
      ]
     },
     "execution_count": 9,
     "metadata": {},
     "output_type": "execute_result"
    }
   ],
   "source": [
    "# marginalizeNetworkVariables(carNet, 'fuel') ## this returns back a list\n",
    "marginalizeNetworkVariables(carNet, ['battery', 'fuel'])"
   ]
  }
 ],
 "metadata": {
  "kernelspec": {
   "display_name": "Python 3",
   "language": "python",
   "name": "python3"
  },
  "language_info": {
   "codemirror_mode": {
    "name": "ipython",
    "version": 3
   },
   "file_extension": ".py",
   "mimetype": "text/x-python",
   "name": "python",
   "nbconvert_exporter": "python",
   "pygments_lexer": "ipython3",
   "version": "3.8.3"
  }
 },
 "nbformat": 4,
 "nbformat_minor": 4
}
