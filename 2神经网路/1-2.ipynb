{
 "cells": [
  {
   "cell_type": "code",
   "execution_count": 1,
   "metadata": {},
   "outputs": [],
   "source": [
    "import os\n",
    "import struct\n",
    "import torch\n",
    "import torch.nn as nn\n",
    "import torch.nn.functional as F\n",
    "import numpy as np\n",
    "import matplotlib.pyplot as plt"
   ]
  },
  {
   "cell_type": "code",
   "execution_count": 2,
   "metadata": {},
   "outputs": [],
   "source": [
    "def Load_mnist(path, sort='train'):\n",
    "    #从‘path’路径导入MNIST数据集\n",
    "    labels_path = os.path.join(path, '%s-labels.idx1-ubyte' % sort)\n",
    "    images_path = os.path.join(path, '%s-images.idx3-ubyte' % sort)\n",
    "    with open(labels_path, 'rb') as lbpath:\n",
    "        magic, n = struct.unpack('>II', lbpath.read(8))\n",
    "        labels = np.fromfile(lbpath, dtype=np.uint8)\n",
    "\n",
    "    with open(images_path, 'rb') as imgpath:\n",
    "        magic, num, rows, cols = struct.unpack('>IIII', imgpath.read(16))\n",
    "        images = np.fromfile(imgpath, dtype=np.uint8).reshape(len(labels), 784)\n",
    "\n",
    "    return images, labels\n",
    "\n",
    "\n",
    "#调用函数，读取数据\n",
    "training_images, training_labels = Load_mnist(os.getcwd(), 'train')\n",
    "test_images, test_labels = Load_mnist(os.getcwd(), 't10k')\n",
    "training_num = 60000\n",
    "test_num = 10000\n",
    "training_images = torch.tensor(training_images)\n",
    "training_labels = torch.tensor(training_labels)\n",
    "test_images = torch.tensor(test_images)\n",
    "test_labels = torch.tensor(test_labels)\n",
    "\n",
    "test_images = test_images / 255.0\n",
    "training_images = training_images / 255.0"
   ]
  },
  {
   "cell_type": "code",
   "execution_count": 3,
   "metadata": {},
   "outputs": [],
   "source": [
    "class Model(nn.Module):\n",
    "    def __init__(self):\n",
    "        super(Model, self).__init__()\n",
    "        #两层卷积、池化网络\n",
    "        self.conv1 = nn.Conv2d(1, 3, 4)  # N,1,28,28——N,3,25,25\n",
    "        self.mp1 = nn.MaxPool2d(2)  #——N,3,12,12\n",
    "\n",
    "        self.conv2 = nn.Conv2d(3, 12, 4)  # ——N,12,9,9\n",
    "        self.mp2 = nn.MaxPool2d(2)  # ——N,12,4,4\n",
    "        # 全连接层\n",
    "        self.fc1 = nn.Linear(12 * 4 * 4, 16)\n",
    "        #         self.fc2 = nn.Linear(96, 64)\n",
    "        self.fc3 = nn.Linear(16, 10)\n",
    "\n",
    "    def forward(self, x):\n",
    "        x = x.view(-1, 1, 28, 28)\n",
    "\n",
    "        x = x.float()\n",
    "        #非线性激活函数为ReLU\n",
    "        x = F.relu(self.conv1(x))\n",
    "        x = self.mp1(x)\n",
    "        x = F.relu(self.conv2(x))\n",
    "        x = self.mp2(x)\n",
    "        x = x.view(-1, 12 * 4 * 4)\n",
    "        x = F.relu(self.fc1(x))\n",
    "        #         x = F.relu(self.fc2(x))\n",
    "        x = self.fc3(x)\n",
    "        return x"
   ]
  },
  {
   "cell_type": "code",
   "execution_count": 4,
   "metadata": {},
   "outputs": [],
   "source": [
    "def Processing_test_data():\n",
    "    #测试数据集，计算错误率\n",
    "    prediction = model(test_images)\n",
    "    loss_ = criterion(prediction, test_labels.long())\n",
    "    prediction = torch.argmax(prediction, dim=1)  #整理预测出的值\n",
    "\n",
    "    error = 0\n",
    "    for i in range(test_num):\n",
    "        if test_labels[i].item() != prediction[i].item():\n",
    "            error += 1\n",
    "\n",
    "    return loss_.item(), error / test_num\n",
    "\n",
    "\n",
    "def Get_training_error(pred):\n",
    "    pred = torch.argmax(pred, dim=1)\n",
    "    error = 0\n",
    "    for i in range(training_num):\n",
    "        if training_labels[i].item() != pred[i].item():\n",
    "            error += 1\n",
    "    return error / training_num"
   ]
  },
  {
   "cell_type": "code",
   "execution_count": 5,
   "metadata": {},
   "outputs": [
    {
     "name": "stdout",
     "output_type": "stream",
     "text": [
      "0 2.308030843734741 0.902\n"
     ]
    },
    {
     "ename": "KeyboardInterrupt",
     "evalue": "",
     "output_type": "error",
     "traceback": [
      "\u001b[1;31m---------------------------------------------------------------------------\u001b[0m",
      "\u001b[1;31mKeyboardInterrupt\u001b[0m                         Traceback (most recent call last)",
      "\u001b[1;32m<ipython-input-5-82460a572983>\u001b[0m in \u001b[0;36m<module>\u001b[1;34m\u001b[0m\n\u001b[0;32m     14\u001b[0m     \u001b[0mloss\u001b[0m \u001b[1;33m=\u001b[0m \u001b[0mcriterion\u001b[0m\u001b[1;33m(\u001b[0m\u001b[0moutput\u001b[0m\u001b[1;33m,\u001b[0m \u001b[0mtraining_labels\u001b[0m\u001b[1;33m.\u001b[0m\u001b[0mlong\u001b[0m\u001b[1;33m(\u001b[0m\u001b[1;33m)\u001b[0m\u001b[1;33m)\u001b[0m  \u001b[1;31m#计算损失函数\u001b[0m\u001b[1;33m\u001b[0m\u001b[1;33m\u001b[0m\u001b[0m\n\u001b[0;32m     15\u001b[0m \u001b[1;33m\u001b[0m\u001b[0m\n\u001b[1;32m---> 16\u001b[1;33m     \u001b[0mloss\u001b[0m\u001b[1;33m.\u001b[0m\u001b[0mbackward\u001b[0m\u001b[1;33m(\u001b[0m\u001b[1;33m)\u001b[0m\u001b[1;33m\u001b[0m\u001b[1;33m\u001b[0m\u001b[0m\n\u001b[0m\u001b[0;32m     17\u001b[0m     \u001b[1;31m#更改学习率\u001b[0m\u001b[1;33m\u001b[0m\u001b[1;33m\u001b[0m\u001b[1;33m\u001b[0m\u001b[0m\n\u001b[0;32m     18\u001b[0m     \u001b[1;32mif\u001b[0m \u001b[0me\u001b[0m \u001b[1;33m==\u001b[0m \u001b[1;36m15\u001b[0m\u001b[1;33m:\u001b[0m\u001b[1;33m\u001b[0m\u001b[1;33m\u001b[0m\u001b[0m\n",
      "\u001b[1;32m~\\anaconda3\\lib\\site-packages\\torch\\tensor.py\u001b[0m in \u001b[0;36mbackward\u001b[1;34m(self, gradient, retain_graph, create_graph)\u001b[0m\n\u001b[0;32m    193\u001b[0m                 \u001b[0mproducts\u001b[0m\u001b[1;33m.\u001b[0m \u001b[0mDefaults\u001b[0m \u001b[0mto\u001b[0m\u001b[0;31m \u001b[0m\u001b[0;31m`\u001b[0m\u001b[0;31m`\u001b[0m\u001b[1;32mFalse\u001b[0m\u001b[0;31m`\u001b[0m\u001b[0;31m`\u001b[0m\u001b[1;33m.\u001b[0m\u001b[1;33m\u001b[0m\u001b[1;33m\u001b[0m\u001b[0m\n\u001b[0;32m    194\u001b[0m         \"\"\"\n\u001b[1;32m--> 195\u001b[1;33m         \u001b[0mtorch\u001b[0m\u001b[1;33m.\u001b[0m\u001b[0mautograd\u001b[0m\u001b[1;33m.\u001b[0m\u001b[0mbackward\u001b[0m\u001b[1;33m(\u001b[0m\u001b[0mself\u001b[0m\u001b[1;33m,\u001b[0m \u001b[0mgradient\u001b[0m\u001b[1;33m,\u001b[0m \u001b[0mretain_graph\u001b[0m\u001b[1;33m,\u001b[0m \u001b[0mcreate_graph\u001b[0m\u001b[1;33m)\u001b[0m\u001b[1;33m\u001b[0m\u001b[1;33m\u001b[0m\u001b[0m\n\u001b[0m\u001b[0;32m    196\u001b[0m \u001b[1;33m\u001b[0m\u001b[0m\n\u001b[0;32m    197\u001b[0m     \u001b[1;32mdef\u001b[0m \u001b[0mregister_hook\u001b[0m\u001b[1;33m(\u001b[0m\u001b[0mself\u001b[0m\u001b[1;33m,\u001b[0m \u001b[0mhook\u001b[0m\u001b[1;33m)\u001b[0m\u001b[1;33m:\u001b[0m\u001b[1;33m\u001b[0m\u001b[1;33m\u001b[0m\u001b[0m\n",
      "\u001b[1;32m~\\anaconda3\\lib\\site-packages\\torch\\autograd\\__init__.py\u001b[0m in \u001b[0;36mbackward\u001b[1;34m(tensors, grad_tensors, retain_graph, create_graph, grad_variables)\u001b[0m\n\u001b[0;32m     95\u001b[0m         \u001b[0mretain_graph\u001b[0m \u001b[1;33m=\u001b[0m \u001b[0mcreate_graph\u001b[0m\u001b[1;33m\u001b[0m\u001b[1;33m\u001b[0m\u001b[0m\n\u001b[0;32m     96\u001b[0m \u001b[1;33m\u001b[0m\u001b[0m\n\u001b[1;32m---> 97\u001b[1;33m     Variable._execution_engine.run_backward(\n\u001b[0m\u001b[0;32m     98\u001b[0m         \u001b[0mtensors\u001b[0m\u001b[1;33m,\u001b[0m \u001b[0mgrad_tensors\u001b[0m\u001b[1;33m,\u001b[0m \u001b[0mretain_graph\u001b[0m\u001b[1;33m,\u001b[0m \u001b[0mcreate_graph\u001b[0m\u001b[1;33m,\u001b[0m\u001b[1;33m\u001b[0m\u001b[1;33m\u001b[0m\u001b[0m\n\u001b[0;32m     99\u001b[0m         allow_unreachable=True)  # allow_unreachable flag\n",
      "\u001b[1;31mKeyboardInterrupt\u001b[0m: "
     ]
    },
    {
     "data": {
      "image/png": "[encoded data removed]",
      "text/plain": [
       "<Figure size 432x288 with 1 Axes>"
      ]
     },
     "metadata": {
      "needs_background": "light"
     },
     "output_type": "display_data"
    },
    {
     "data": {
      "image/png": "[encoded data removed]",
      "text/plain": [
       "<Figure size 432x288 with 1 Axes>"
      ]
     },
     "metadata": {
      "needs_background": "light"
     },
     "output_type": "display_data"
    },
    {
     "data": {
      "image/png": "[encoded data removed]",
      "text/plain": [
       "<Figure size 432x288 with 1 Axes>"
      ]
     },
     "metadata": {
      "needs_background": "light"
     },
     "output_type": "display_data"
    },
    {
     "data": {
      "image/png": "[encoded data removed]",
      "text/plain": [
       "<Figure size 432x288 with 1 Axes>"
      ]
     },
     "metadata": {
      "needs_background": "light"
     },
     "output_type": "display_data"
    }
   ],
   "source": [
    "error_rate1, error_rate2 = [], []\n",
    "episodes = []\n",
    "loss_value1 = []\n",
    "loss_value2 = []\n",
    "avg_length = 10\n",
    "\n",
    "model = Model()\n",
    "criterion = nn.CrossEntropyLoss()  #采用交叉熵损失函数\n",
    "optimizer = torch.optim.SGD(model.parameters(), lr=0.3)  #使用SGD优化器\n",
    "\n",
    "for e in range(6000):  #训练数据集，调整参数\n",
    "    optimizer.zero_grad()  #零梯度缓冲\n",
    "    output = model(training_images)\n",
    "    loss = criterion(output, training_labels.long())  #计算损失函数\n",
    "\n",
    "    loss.backward()\n",
    "    #更改学习率\n",
    "    if e == 15:\n",
    "        optimizer = torch.optim.SGD(model.parameters(), lr=0.145)\n",
    "    elif e == 42:\n",
    "        optimizer = torch.optim.SGD(model.parameters(), lr=0.065)\n",
    "    elif e == 55:\n",
    "        optimizer = torch.optim.SGD(model.parameters(), lr=0.025)\n",
    "    elif e == 275:\n",
    "        optimizer = torch.optim.SGD(model.parameters(), lr=0.0112)\n",
    "    optimizer.step()  #更新\n",
    "    #作图\n",
    "    if e % avg_length == 0:  #每十次记一回数\n",
    "        episodes.append(e)\n",
    "\n",
    "        loss_value1.append(loss.item())\n",
    "        error_rate1.append(Get_training_error(output))\n",
    "\n",
    "        value2, rate2 = Processing_test_data()\n",
    "        loss_value2.append(value2)\n",
    "        error_rate2.append(rate2)\n",
    "\n",
    "        plt.figure(1)\n",
    "        plt.title(\"Loss function value of training data\")\n",
    "        plt.xlabel(\"training times\")\n",
    "        plt.ylabel(\"loss function value\")\n",
    "        plt.plot(episodes, loss_value1, 'r')\n",
    "\n",
    "        plt.figure(2)\n",
    "        plt.title(\"Loss function value of test data\")\n",
    "        plt.xlabel(\"training times\")\n",
    "        plt.ylabel(\"loss function value\")\n",
    "        plt.plot(episodes, loss_value2, 'b')\n",
    "\n",
    "        plt.figure(3)\n",
    "        plt.title(\"Error rate of training data\")\n",
    "        plt.xlabel(\"training times\")\n",
    "        plt.ylabel(\"error rate\")\n",
    "        plt.plot(episodes, error_rate1, 'c')\n",
    "\n",
    "        plt.figure(4)\n",
    "        plt.title(\"Error rate of test data\")\n",
    "        plt.xlabel(\"training times\")\n",
    "        plt.ylabel(\"error rate\")\n",
    "        plt.plot(episodes, error_rate2, 'g')\n",
    "        plt.savefig('4.jpg')\n",
    "\n",
    "    print(e, loss.item(), rate2)\n",
    "    if loss.item() < 0.01:\n",
    "        break"
   ]
  }
 ],
 "metadata": {
  "kernelspec": {
   "display_name": "Python 3",
   "language": "python",
   "name": "python3"
  },
  "language_info": {
   "codemirror_mode": {
    "name": "ipython",
    "version": 3
   },
   "file_extension": ".py",
   "mimetype": "text/x-python",
   "name": "python",
   "nbconvert_exporter": "python",
   "pygments_lexer": "ipython3",
   "version": "3.8.3"
  }
 },
 "nbformat": 4,
 "nbformat_minor": 4
}
