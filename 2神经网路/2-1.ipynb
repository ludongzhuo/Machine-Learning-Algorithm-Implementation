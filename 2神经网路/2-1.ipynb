{
 "cells": [
  {
   "cell_type": "code",
   "execution_count": 1,
   "metadata": {},
   "outputs": [],
   "source": [
    "import numpy as np\n",
    "import matplotlib.pyplot as plt\n",
    "\n",
    "def iris_type(s):\n",
    "    it = {b'Iris-setosa': 0, b'Iris-versicolor': 1, b'Iris-virginica': 2}\n",
    "    return it[s]\n",
    "\n",
    "\n",
    "#读入数据\n",
    "iris = np.loadtxt(\"iris.data\", delimiter=',', converters={4: iris_type})\n",
    "np.random.shuffle(iris)  #打乱\n",
    "num = iris.shape[0]  #数据总数\n",
    "dim = iris.shape[1] - 1  #维数\n",
    "training_num = round(num * 4 / 5)  #80%训练、20%测试\n",
    "test_num = num - training_num\n",
    "training_set = iris[0:training_num]\n",
    "test_set = iris[training_num:num]\n",
    "\n",
    "#单热向量\n",
    "training_labels = np.zeros((training_num, 3))\n",
    "test_labels = np.zeros((test_num, 3))\n",
    "\n",
    "i = 0\n",
    "for n in training_set[:, -1]:\n",
    "    training_labels[i, int(n)] = 1\n",
    "    i += 1\n",
    "\n",
    "i = 0\n",
    "for n in test_set[:, -1]:\n",
    "    test_labels[i, int(n)] = 1\n",
    "    i += 1"
   ]
  },
  {
   "cell_type": "code",
   "execution_count": 2,
   "metadata": {},
   "outputs": [],
   "source": [
    "def sigmoid(x):\n",
    "    # Sigmoid激活函数: 1 / (1 + e^(-x))\n",
    "    return 1 / (1 + np.exp(-x))\n",
    "\n",
    "\n",
    "def d_sigmoid(x):\n",
    "    # sigmoid函数的导数，可化简为 f(x) * (1 - f(x))\n",
    "    fx = sigmoid(x)\n",
    "    return fx * (1 - fx)\n",
    "\n",
    "\n",
    "def mse_loss(real, pred):\n",
    "    #均方误差损失函数\n",
    "    return ((real - pred)**2).mean()\n",
    "\n",
    "\n",
    "class Neural_Network:\n",
    "    #输入d维向量，中间h个隐含神经元， 输出c>1类单热向量编码\n",
    "    #隐含层使用sigmoid激活函数，输入输出层使用线性激活函数\n",
    "    def __init__(self, inpu, hidden, output):\n",
    "        self.d = inpu\n",
    "        self.h = hidden\n",
    "        self.c = output\n",
    "\n",
    "        # Weights\n",
    "        self.w1 = np.random.randn(self.d, self.h)\n",
    "        self.w2 = np.random.randn(self.h, self.c)\n",
    "\n",
    "        # Biases\n",
    "        self.b1 = np.random.randn(self.h)\n",
    "        self.b2 = np.random.randn(self.c)\n",
    "\n",
    "    def predict(self, x):\n",
    "        y = sigmoid(np.matmul(x, self.w1) + self.b1)\n",
    "        z = np.matmul(y, self.w2) + self.b2\n",
    "        return z\n",
    "\n",
    "    def Get_error(self, pre, out):\n",
    "        #测试数据集，计算错误率\n",
    "        pre = np.argmax(pre, axis=1)  #整理预测出的值\n",
    "        out = np.argmax(out, axis=1)\n",
    "        error = 0\n",
    "        for i in range(out.size):\n",
    "            if out[i] != pre[i]:\n",
    "                error += 1\n",
    "\n",
    "        return error / out.size\n",
    "\n",
    "    def train(self, train_inputs, train_outputs, test_inputs, test_outputs):\n",
    "        learn_rate = 0.005\n",
    "        epochs = 1000\n",
    "        error_rate1, error_rate2 = [], []\n",
    "        episodes = []\n",
    "        loss_value1 = []\n",
    "        loss_value2 = []\n",
    "\n",
    "        for e in range(epochs):\n",
    "            for x, z_real in zip(train_inputs, train_outputs):\n",
    "                y_ = np.matmul(x, self.w1) + self.b1\n",
    "                y_pred = sigmoid(y_)\n",
    "\n",
    "                z_pred = np.matmul(y_pred, self.w2) + self.b2\n",
    "\n",
    "                # 计算导数\n",
    "                dL_dzpred = z_pred - z_real  #1,c\n",
    "                # z层：\n",
    "                dzpred_dw2 = y_pred  # 1,h\n",
    "                dzpred_db2 = 1\n",
    "\n",
    "                # 梯度下降更新参数值\n",
    "                self.w1 -= learn_rate * x.reshape(\n",
    "                    -1, 1) * (np.matmul(dL_dzpred, self.w2.T) * d_sigmoid(y_))\n",
    "\n",
    "                self.b1 -= learn_rate * np.matmul(dL_dzpred,\n",
    "                                                  self.w2.T) * d_sigmoid(y_)\n",
    "\n",
    "                self.w2 -= learn_rate * dzpred_dw2.reshape(-1, 1) * dL_dzpred\n",
    "                self.b2 -= learn_rate * dL_dzpred * dzpred_db2\n",
    "\n",
    "            # 计算损失函数值\n",
    "            if e % 10 == 0:\n",
    "                episodes.append(e)\n",
    "\n",
    "                train_preds = np.apply_along_axis(self.predict, 1,\n",
    "                                                  train_inputs)\n",
    "                test_preds = np.apply_along_axis(self.predict, 1, test_inputs)\n",
    "                loss1 = mse_loss(train_outputs, train_preds)\n",
    "                loss_value1.append(loss1)\n",
    "                loss2 = mse_loss(test_outputs, test_preds)\n",
    "                loss_value2.append(loss2)\n",
    "                #  print(\"Times: %d ,loss: %.3f\" % (e, loss))\n",
    "\n",
    "                error_rate1.append(self.Get_error(train_outputs, train_preds))\n",
    "                rate2 = self.Get_error(test_outputs, test_preds)\n",
    "                error_rate2.append(rate2)\n",
    "\n",
    "                plt.figure(1)\n",
    "                plt.title(\"Loss function value of training data\")\n",
    "                plt.xlabel(\"training times\")\n",
    "                plt.ylabel(\"loss function value\")\n",
    "                plt.plot(episodes, loss_value1, 'r')\n",
    "\n",
    "                plt.figure(2)\n",
    "                plt.title(\"Loss function value of test data\")\n",
    "                plt.xlabel(\"training times\")\n",
    "                plt.ylabel(\"loss function value\")\n",
    "                plt.plot(episodes, loss_value2, 'b')\n",
    "\n",
    "                plt.figure(3)\n",
    "                plt.title(\"Error rate of training data\")\n",
    "                plt.xlabel(\"training times\")\n",
    "                plt.ylabel(\"error rate\")\n",
    "                plt.plot(episodes, error_rate1, 'c')\n",
    "\n",
    "                plt.figure(4)\n",
    "                plt.title(\"Error rate of test data\")\n",
    "                plt.xlabel(\"training times\")\n",
    "                plt.ylabel(\"error rate\")\n",
    "                plt.plot(episodes, error_rate2, 'g')"
   ]
  },
  {
   "cell_type": "code",
   "execution_count": 3,
   "metadata": {},
   "outputs": [
    {
     "data": {
      "image/png": "[encoded data removed]",
      "text/plain": [
       "<Figure size 432x288 with 1 Axes>"
      ]
     },
     "metadata": {
      "needs_background": "light"
     },
     "output_type": "display_data"
    },
    {
     "data": {
      "image/png": "[encoded data removed]",
      "text/plain": [
       "<Figure size 432x288 with 1 Axes>"
      ]
     },
     "metadata": {
      "needs_background": "light"
     },
     "output_type": "display_data"
    },
    {
     "data": {
      "image/png": "[encoded data removed]",
      "text/plain": [
       "<Figure size 432x288 with 1 Axes>"
      ]
     },
     "metadata": {
      "needs_background": "light"
     },
     "output_type": "display_data"
    },
    {
     "data": {
      "image/png": "[encoded data removed]",
      "text/plain": [
       "<Figure size 432x288 with 1 Axes>"
      ]
     },
     "metadata": {
      "needs_background": "light"
     },
     "output_type": "display_data"
    }
   ],
   "source": [
    "network = Neural_Network(4, 10, 3)\n",
    "network.train(training_set[:, :-1], training_labels,test_set[:, :-1], test_labels)"
   ]
  }
 ],
 "metadata": {
  "kernelspec": {
   "display_name": "Python 3",
   "language": "python",
   "name": "python3"
  },
  "language_info": {
   "codemirror_mode": {
    "name": "ipython",
    "version": 3
   },
   "file_extension": ".py",
   "mimetype": "text/x-python",
   "name": "python",
   "nbconvert_exporter": "python",
   "pygments_lexer": "ipython3",
   "version": "3.8.3"
  }
 },
 "nbformat": 4,
 "nbformat_minor": 4
}
