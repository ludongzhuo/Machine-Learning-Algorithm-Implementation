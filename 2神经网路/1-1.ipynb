{
 "cells": [
  {
   "cell_type": "code",
   "execution_count": 1,
   "metadata": {},
   "outputs": [],
   "source": [
    "import torch\n",
    "import torch.nn as nn\n",
    "import torch.nn.functional as F\n",
    "import numpy as np\n",
    "import matplotlib.pyplot as plt\n",
    "\n",
    "\n",
    "class Model_a(nn.Module):\n",
    "    def __init__(self):\n",
    "        super(Model_a, self).__init__()\n",
    "        # 3层都为全连接层，4输入，3输出\n",
    "        self.fc1 = nn.Linear(4, 128)\n",
    "        self.fc2 = nn.Linear(128, 32)\n",
    "        self.fc3 = nn.Linear(32, 3)\n",
    "\n",
    "    def forward(self, x):\n",
    "        x = x.float()\n",
    "        #激活函数为ReLU\n",
    "        x = F.relu(self.fc1(x))\n",
    "        x = F.relu(self.fc2(x))\n",
    "        x = self.fc3(x)\n",
    "        return x\n",
    "\n",
    "\n",
    "class Model_b(nn.Module):\n",
    "    def __init__(self):\n",
    "        super(Model_b, self).__init__()\n",
    "        # 3层都为全连接层，4输入，3输出\n",
    "        self.fc1 = nn.Linear(4, 128)\n",
    "        self.fc2 = nn.Linear(128, 32)\n",
    "        self.fc3 = nn.Linear(32, 3)\n",
    "\n",
    "    def forward(self, x):\n",
    "        x = x.float()\n",
    "        #激活函数为Softplus\n",
    "        x = F.softplus(self.fc1(x))\n",
    "        x = F.softplus(self.fc2(x))\n",
    "        x = self.fc3(x)\n",
    "        return x\n",
    "\n",
    "\n",
    "class Model_c(nn.Module):\n",
    "    def __init__(self):\n",
    "        super(Model_c, self).__init__()\n",
    "        # 3层都为全连接层，4输入，3输出\n",
    "        self.fc1 = nn.Linear(4, 128)\n",
    "        self.fc2 = nn.Linear(128, 32)\n",
    "        self.fc3 = nn.Linear(32, 3)\n",
    "\n",
    "    def forward(self, x):\n",
    "        x = x.float()\n",
    "        #激活函数为Sigmoid\n",
    "        x = torch.sigmoid(self.fc1(x))\n",
    "        x = torch.sigmoid(self.fc2(x))\n",
    "        x = self.fc3(x)\n",
    "        return x"
   ]
  },
  {
   "cell_type": "code",
   "execution_count": 2,
   "metadata": {
    "slideshow": {
     "slide_type": "slide"
    }
   },
   "outputs": [],
   "source": [
    "def iris_type(s):\n",
    "    it = {b'Iris-setosa': 0, b'Iris-versicolor': 1, b'Iris-virginica': 2}\n",
    "    return it[s]\n",
    "\n",
    "\n",
    "#读入数据\n",
    "iris = np.loadtxt(\"iris.data\", delimiter=',', converters={4: iris_type})\n",
    "np.random.shuffle(iris)  #打乱\n",
    "num = iris.shape[0]  #数据总数\n",
    "dim = iris.shape[1] - 1  #维数\n",
    "training_num = round(num * 4 / 5)  #80%训练、20%测试\n",
    "test_num = num - training_num\n",
    "training_set = iris[0:training_num]\n",
    "test_set = iris[training_num:num]\n",
    "training_set = torch.tensor(training_set)  #数据类型转化\n",
    "test_set = torch.tensor(test_set)"
   ]
  },
  {
   "cell_type": "code",
   "execution_count": 3,
   "metadata": {},
   "outputs": [],
   "source": [
    "def Processing_test_data():\n",
    "    #测试数据集，计算错误率\n",
    "    prediction = model(test_set[:, :-1])\n",
    "    loss_ = criterion(prediction, test_set[:, -1].long())\n",
    "    prediction = torch.argmax(prediction, dim=1)  #整理预测出的值\n",
    "\n",
    "    error = 0\n",
    "    for i in range(test_num):\n",
    "        if test_set[i, -1].item() != prediction[i].item():\n",
    "            error += 1\n",
    "\n",
    "    return loss_.item(), error / test_num\n",
    "\n",
    "\n",
    "def Get_training_error(pred):\n",
    "    pred = torch.argmax(pred, dim=1)\n",
    "    error = 0\n",
    "    for i in range(training_num):\n",
    "        if training_set[i, -1].item() != pred[i].item():\n",
    "            error += 1\n",
    "    return error / training_num"
   ]
  },
  {
   "cell_type": "code",
   "execution_count": 4,
   "metadata": {
    "collapsed": true
   },
   "outputs": [
    {
     "ename": "KeyboardInterrupt",
     "evalue": "",
     "output_type": "error",
     "traceback": [
      "\u001b[1;31m---------------------------------------------------------------------------\u001b[0m",
      "\u001b[1;31mKeyboardInterrupt\u001b[0m                         Traceback (most recent call last)",
      "\u001b[1;32m<ipython-input-4-43d4168a628b>\u001b[0m in \u001b[0;36m<module>\u001b[1;34m\u001b[0m\n\u001b[0;32m     21\u001b[0m \u001b[1;33m\u001b[0m\u001b[0m\n\u001b[0;32m     22\u001b[0m         \u001b[0mloss_value1\u001b[0m\u001b[1;33m.\u001b[0m\u001b[0mappend\u001b[0m\u001b[1;33m(\u001b[0m\u001b[0mloss\u001b[0m\u001b[1;33m.\u001b[0m\u001b[0mitem\u001b[0m\u001b[1;33m(\u001b[0m\u001b[1;33m)\u001b[0m\u001b[1;33m)\u001b[0m\u001b[1;33m\u001b[0m\u001b[1;33m\u001b[0m\u001b[0m\n\u001b[1;32m---> 23\u001b[1;33m         \u001b[0merror_rate1\u001b[0m\u001b[1;33m.\u001b[0m\u001b[0mappend\u001b[0m\u001b[1;33m(\u001b[0m\u001b[0mGet_training_error\u001b[0m\u001b[1;33m(\u001b[0m\u001b[0moutput\u001b[0m\u001b[1;33m)\u001b[0m\u001b[1;33m)\u001b[0m\u001b[1;33m\u001b[0m\u001b[1;33m\u001b[0m\u001b[0m\n\u001b[0m\u001b[0;32m     24\u001b[0m \u001b[1;33m\u001b[0m\u001b[0m\n\u001b[0;32m     25\u001b[0m         \u001b[0mvalue2\u001b[0m\u001b[1;33m,\u001b[0m \u001b[0mrate2\u001b[0m \u001b[1;33m=\u001b[0m \u001b[0mProcessing_test_data\u001b[0m\u001b[1;33m(\u001b[0m\u001b[1;33m)\u001b[0m\u001b[1;33m\u001b[0m\u001b[1;33m\u001b[0m\u001b[0m\n",
      "\u001b[1;32m<ipython-input-3-faa3a6e87387>\u001b[0m in \u001b[0;36mGet_training_error\u001b[1;34m(pred)\u001b[0m\n\u001b[0;32m     17\u001b[0m     \u001b[0merror\u001b[0m \u001b[1;33m=\u001b[0m \u001b[1;36m0\u001b[0m\u001b[1;33m\u001b[0m\u001b[1;33m\u001b[0m\u001b[0m\n\u001b[0;32m     18\u001b[0m     \u001b[1;32mfor\u001b[0m \u001b[0mi\u001b[0m \u001b[1;32min\u001b[0m \u001b[0mrange\u001b[0m\u001b[1;33m(\u001b[0m\u001b[0mtraining_num\u001b[0m\u001b[1;33m)\u001b[0m\u001b[1;33m:\u001b[0m\u001b[1;33m\u001b[0m\u001b[1;33m\u001b[0m\u001b[0m\n\u001b[1;32m---> 19\u001b[1;33m         \u001b[1;32mif\u001b[0m \u001b[0mtraining_set\u001b[0m\u001b[1;33m[\u001b[0m\u001b[0mi\u001b[0m\u001b[1;33m,\u001b[0m \u001b[1;33m-\u001b[0m\u001b[1;36m1\u001b[0m\u001b[1;33m]\u001b[0m\u001b[1;33m.\u001b[0m\u001b[0mitem\u001b[0m\u001b[1;33m(\u001b[0m\u001b[1;33m)\u001b[0m \u001b[1;33m!=\u001b[0m \u001b[0mpred\u001b[0m\u001b[1;33m[\u001b[0m\u001b[0mi\u001b[0m\u001b[1;33m]\u001b[0m\u001b[1;33m.\u001b[0m\u001b[0mitem\u001b[0m\u001b[1;33m(\u001b[0m\u001b[1;33m)\u001b[0m\u001b[1;33m:\u001b[0m\u001b[1;33m\u001b[0m\u001b[1;33m\u001b[0m\u001b[0m\n\u001b[0m\u001b[0;32m     20\u001b[0m             \u001b[0merror\u001b[0m \u001b[1;33m+=\u001b[0m \u001b[1;36m1\u001b[0m\u001b[1;33m\u001b[0m\u001b[1;33m\u001b[0m\u001b[0m\n\u001b[0;32m     21\u001b[0m     \u001b[1;32mreturn\u001b[0m \u001b[0merror\u001b[0m \u001b[1;33m/\u001b[0m \u001b[0mtraining_num\u001b[0m\u001b[1;33m\u001b[0m\u001b[1;33m\u001b[0m\u001b[0m\n",
      "\u001b[1;31mKeyboardInterrupt\u001b[0m: "
     ]
    },
    {
     "data": {
      "image/png": "[encoded data removed]",
      "text/plain": [
       "<Figure size 432x288 with 1 Axes>"
      ]
     },
     "metadata": {
      "needs_background": "light"
     },
     "output_type": "display_data"
    },
    {
     "data": {
      "image/png": "[encoded data removed]",
      "text/plain": [
       "<Figure size 432x288 with 1 Axes>"
      ]
     },
     "metadata": {
      "needs_background": "light"
     },
     "output_type": "display_data"
    },
    {
     "data": {
      "image/png": "[encoded data removed]",
      "text/plain": [
       "<Figure size 432x288 with 1 Axes>"
      ]
     },
     "metadata": {
      "needs_background": "light"
     },
     "output_type": "display_data"
    },
    {
     "data": {
      "image/png": "[encoded data removed]",
      "text/plain": [
       "<Figure size 432x288 with 1 Axes>"
      ]
     },
     "metadata": {
      "needs_background": "light"
     },
     "output_type": "display_data"
    }
   ],
   "source": [
    "error_rate1, error_rate2 = [], []\n",
    "episodes = []\n",
    "loss_value1 = []\n",
    "loss_value2 = []\n",
    "avg_length = 10\n",
    "\n",
    "model = Model_a()  #可更改为Model_a()/Model_b()/Model_c()\n",
    "criterion = nn.CrossEntropyLoss()  #采用交叉熵损失函数\n",
    "optimizer = torch.optim.SGD(model.parameters(), lr=0.005)  #使用SGD优化器，学习率为0.005\n",
    "\n",
    "for e in range(3000):  #训练数据集，调整参数\n",
    "    optimizer.zero_grad()  #零梯度缓冲\n",
    "    output = model(training_set[:, :-1])\n",
    "    loss = criterion(output, training_set[:, -1].long())  #计算损失函数\n",
    "\n",
    "    loss.backward()\n",
    "    optimizer.step()  #更新\n",
    "    #作图\n",
    "    if e % avg_length == 0:  #每十次记一回数\n",
    "        episodes.append(e)\n",
    "\n",
    "        loss_value1.append(loss.item())\n",
    "        error_rate1.append(Get_training_error(output))\n",
    "\n",
    "        value2, rate2 = Processing_test_data()\n",
    "        loss_value2.append(value2)\n",
    "        error_rate2.append(rate2)\n",
    "\n",
    "        plt.figure(1)\n",
    "        plt.title(\"Loss function value of training data\")\n",
    "        plt.xlabel(\"training times\")\n",
    "        plt.ylabel(\"loss function value\")\n",
    "        plt.plot(episodes, loss_value1, 'r')\n",
    "\n",
    "        plt.figure(2)\n",
    "        plt.title(\"Loss function value of test data\")\n",
    "        plt.xlabel(\"training times\")\n",
    "        plt.ylabel(\"loss function value\")\n",
    "        plt.plot(episodes, loss_value2, 'b')\n",
    "\n",
    "        plt.figure(3)\n",
    "        plt.title(\"Error rate of training data\")\n",
    "        plt.xlabel(\"training times\")\n",
    "        plt.ylabel(\"error rate\")\n",
    "        plt.plot(episodes, error_rate1, 'c')\n",
    "\n",
    "        plt.figure(4)\n",
    "        plt.title(\"Error rate of test data\")\n",
    "        plt.xlabel(\"training times\")\n",
    "        plt.ylabel(\"error rate\")\n",
    "        plt.plot(episodes, error_rate2, 'g')\n",
    "\n",
    "    if loss.item() < 0.01:\n",
    "        break"
   ]
  },
  {
   "cell_type": "code",
   "execution_count": null,
   "metadata": {},
   "outputs": [],
   "source": [
    "#print结果\n",
    "prediction = model(test_set[:, :-1])\n",
    "prediction = torch.argmax(prediction, dim=1)\n",
    "\n",
    "error = 0\n",
    "for i in range(test_num):\n",
    "    if test_set[i, -1].item() != prediction[i].item():\n",
    "        error += 1\n",
    "\n",
    "print(\"真实值为\", np.array(test_set[:, -1]))\n",
    "print(\"预测值为\", np.array(prediction))\n",
    "print(\"错误率为\", error / test_num)"
   ]
  }
 ],
 "metadata": {
  "kernelspec": {
   "display_name": "Python 3",
   "language": "python",
   "name": "python3"
  },
  "language_info": {
   "codemirror_mode": {
    "name": "ipython",
    "version": 3
   },
   "file_extension": ".py",
   "mimetype": "text/x-python",
   "name": "python",
   "nbconvert_exporter": "python",
   "pygments_lexer": "ipython3",
   "version": "3.8.3"
  }
 },
 "nbformat": 4,
 "nbformat_minor": 4
}
